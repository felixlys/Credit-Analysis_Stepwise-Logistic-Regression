{
  "nbformat": 4,
  "nbformat_minor": 0,
  "metadata": {
    "colab": {
      "provenance": [],
      "authorship_tag": "ABX9TyMrhyGOcBei71HlDnICjx2O",
      "include_colab_link": true
    },
    "kernelspec": {
      "name": "ir",
      "display_name": "R"
    },
    "language_info": {
      "name": "R"
    }
  },
  "cells": [
    {
      "cell_type": "markdown",
      "metadata": {
        "id": "view-in-github",
        "colab_type": "text"
      },
      "source": [
        "<a href=\"https://colab.research.google.com/github/felixlys/Credit-Analysis_Stepwise-Logistic-Regression/blob/main/LogisticRegression_For_Credit_Analysis.ipynb\" target=\"_parent\"><img src=\"https://colab.research.google.com/assets/colab-badge.svg\" alt=\"Open In Colab\"/></a>"
      ]
    },
    {
      "cell_type": "markdown",
      "source": [
        "# Logistic Regression for Credit Analysis"
      ],
      "metadata": {
        "id": "AOheZsOhDs5c"
      }
    },
    {
      "cell_type": "code",
      "source": [
        "library(tidyverse)\n",
        "library(nortest)\n",
        "library(psych)\n",
        "library(qqplotr)\n",
        "library(lm.beta)\n",
        "library(lmtest)\n",
        "library(readxl)\n",
        "library(car)\n",
        "library(semPlot)\n",
        "library(interactions)\n",
        "library(tidymodels)\n",
        "library(MASS)\n",
        "library(pscl)\n",
        "library(generalhoslem)"
      ],
      "metadata": {
        "colab": {
          "base_uri": "https://localhost:8080/",
          "height": 290
        },
        "id": "RJRphidjDsZ8",
        "outputId": "47a1917e-edcf-4dd7-a76b-5488a7479676"
      },
      "execution_count": 1,
      "outputs": [
        {
          "output_type": "stream",
          "name": "stderr",
          "text": [
            "── \u001b[1mAttaching core tidyverse packages\u001b[22m ──────────────────────── tidyverse 2.0.0 ──\n",
            "\u001b[32m✔\u001b[39m \u001b[34mdplyr    \u001b[39m 1.1.4     \u001b[32m✔\u001b[39m \u001b[34mreadr    \u001b[39m 2.1.5\n",
            "\u001b[32m✔\u001b[39m \u001b[34mforcats  \u001b[39m 1.0.0     \u001b[32m✔\u001b[39m \u001b[34mstringr  \u001b[39m 1.5.1\n",
            "\u001b[32m✔\u001b[39m \u001b[34mggplot2  \u001b[39m 3.5.1     \u001b[32m✔\u001b[39m \u001b[34mtibble   \u001b[39m 3.2.1\n",
            "\u001b[32m✔\u001b[39m \u001b[34mlubridate\u001b[39m 1.9.3     \u001b[32m✔\u001b[39m \u001b[34mtidyr    \u001b[39m 1.3.1\n",
            "\u001b[32m✔\u001b[39m \u001b[34mpurrr    \u001b[39m 1.0.2     \n",
            "── \u001b[1mConflicts\u001b[22m ────────────────────────────────────────── tidyverse_conflicts() ──\n",
            "\u001b[31m✖\u001b[39m \u001b[34mdplyr\u001b[39m::\u001b[32mfilter()\u001b[39m masks \u001b[34mstats\u001b[39m::filter()\n",
            "\u001b[31m✖\u001b[39m \u001b[34mdplyr\u001b[39m::\u001b[32mlag()\u001b[39m    masks \u001b[34mstats\u001b[39m::lag()\n",
            "\u001b[36mℹ\u001b[39m Use the conflicted package (\u001b[3m\u001b[34m<http://conflicted.r-lib.org/>\u001b[39m\u001b[23m) to force all conflicts to become errors\n"
          ]
        },
        {
          "output_type": "error",
          "ename": "ERROR",
          "evalue": "Error in library(nortest): there is no package called ‘nortest’\n",
          "traceback": [
            "Error in library(nortest): there is no package called ‘nortest’\nTraceback:\n",
            "1. stop(packageNotFoundError(package, lib.loc, sys.call()))"
          ]
        }
      ]
    },
    {
      "cell_type": "markdown",
      "source": [
        "Diberikan data mengenai data pribadi dari 45000 debitur yang pernah mengajukan kredit beserta histori status gagal kredit (1) atau  berhasil kredit (0). Berikut merupakan variabel-variabel nya :\\\\\n",
        "\n",
        "**UMUR** : umur debitur\\\n",
        "**JK** : Jenis Kelamin\\\n",
        "**PENDIDIKAN**: Pendidikan Terakhir\\\n",
        "**GAJI**: Pendapatan debitur per tahun(dalam dollar)\\\n",
        "**LAMA BEKERJA**: Lama debitur bekerja dalam tahun\\\n",
        "**RUMAH**: status kepemilikan rumah debitur\\\n",
        "**PINJAMAN**: Jumlah pinjaman\\\n",
        "**PROFESI**: Profesi debitur\\\n",
        "**BUNGA**: Interest Rate pinjaman\\\n",
        "**PERSENTASE**: Debt to Income\\\n",
        "**HISTORI**: Berapa kali debitur pernah melakukan pinjaman\\\n",
        "**SCORE**: Skor Kredit\\\n",
        "**LUNAS**: Berhasil atau tidaknya kredit (0: Berhasil Kredit, 1: Tidak Berhasil Kredit).\n",
        "\n",
        "\n",
        "\n"
      ],
      "metadata": {
        "id": "kXeZ4cb_F7_A"
      }
    },
    {
      "cell_type": "code",
      "source": [
        "\n",
        "data<-read.csv(\"data_Historis_Hutang.csv\")\n",
        "head(data)\n",
        "str(data)"
      ],
      "metadata": {
        "colab": {
          "base_uri": "https://localhost:8080/",
          "height": 539
        },
        "id": "cS7YIeEtFSWd",
        "outputId": "092fb52a-6dfb-4e4f-9925-68dad3905282"
      },
      "execution_count": 28,
      "outputs": [
        {
          "output_type": "display_data",
          "data": {
            "text/html": [
              "<table class=\"dataframe\">\n",
              "<caption>A data.frame: 6 × 13</caption>\n",
              "<thead>\n",
              "\t<tr><th></th><th scope=col>Umur</th><th scope=col>JK</th><th scope=col>PENDIDIKAN</th><th scope=col>GAJI</th><th scope=col>LAMA.KERJA</th><th scope=col>RUMAH</th><th scope=col>PINJAMAN</th><th scope=col>PROFESI</th><th scope=col>BUNGA</th><th scope=col>PERSENTASE</th><th scope=col>HISTORI</th><th scope=col>SCORE</th><th scope=col>LUNAS</th></tr>\n",
              "\t<tr><th></th><th scope=col>&lt;int&gt;</th><th scope=col>&lt;chr&gt;</th><th scope=col>&lt;chr&gt;</th><th scope=col>&lt;int&gt;</th><th scope=col>&lt;int&gt;</th><th scope=col>&lt;chr&gt;</th><th scope=col>&lt;int&gt;</th><th scope=col>&lt;chr&gt;</th><th scope=col>&lt;dbl&gt;</th><th scope=col>&lt;dbl&gt;</th><th scope=col>&lt;int&gt;</th><th scope=col>&lt;int&gt;</th><th scope=col>&lt;int&gt;</th></tr>\n",
              "</thead>\n",
              "<tbody>\n",
              "\t<tr><th scope=row>1</th><td>22</td><td>female</td><td>Master     </td><td>71948</td><td>0</td><td>RENT    </td><td>35000</td><td>PERSONAL </td><td>16.02</td><td>0.49</td><td>3</td><td>561</td><td>1</td></tr>\n",
              "\t<tr><th scope=row>2</th><td>21</td><td>female</td><td>High School</td><td>12282</td><td>0</td><td>OWN     </td><td> 1000</td><td>EDUCATION</td><td>11.14</td><td>0.08</td><td>2</td><td>504</td><td>0</td></tr>\n",
              "\t<tr><th scope=row>3</th><td>25</td><td>female</td><td>High School</td><td>12438</td><td>3</td><td>MORTGAGE</td><td> 5500</td><td>MEDICAL  </td><td>12.87</td><td>0.44</td><td>3</td><td>635</td><td>1</td></tr>\n",
              "\t<tr><th scope=row>4</th><td>23</td><td>female</td><td>Bachelor   </td><td>79753</td><td>0</td><td>RENT    </td><td>35000</td><td>MEDICAL  </td><td>15.23</td><td>0.44</td><td>2</td><td>675</td><td>1</td></tr>\n",
              "\t<tr><th scope=row>5</th><td>24</td><td>male  </td><td>Master     </td><td>66135</td><td>1</td><td>RENT    </td><td>35000</td><td>MEDICAL  </td><td>14.27</td><td>0.53</td><td>4</td><td>586</td><td>1</td></tr>\n",
              "\t<tr><th scope=row>6</th><td>21</td><td>female</td><td>High School</td><td>12951</td><td>0</td><td>OWN     </td><td> 2500</td><td>VENTURE  </td><td> 7.14</td><td>0.19</td><td>2</td><td>532</td><td>1</td></tr>\n",
              "</tbody>\n",
              "</table>\n"
            ],
            "text/markdown": "\nA data.frame: 6 × 13\n\n| <!--/--> | Umur &lt;int&gt; | JK &lt;chr&gt; | PENDIDIKAN &lt;chr&gt; | GAJI &lt;int&gt; | LAMA.KERJA &lt;int&gt; | RUMAH &lt;chr&gt; | PINJAMAN &lt;int&gt; | PROFESI &lt;chr&gt; | BUNGA &lt;dbl&gt; | PERSENTASE &lt;dbl&gt; | HISTORI &lt;int&gt; | SCORE &lt;int&gt; | LUNAS &lt;int&gt; |\n|---|---|---|---|---|---|---|---|---|---|---|---|---|---|\n| 1 | 22 | female | Master      | 71948 | 0 | RENT     | 35000 | PERSONAL  | 16.02 | 0.49 | 3 | 561 | 1 |\n| 2 | 21 | female | High School | 12282 | 0 | OWN      |  1000 | EDUCATION | 11.14 | 0.08 | 2 | 504 | 0 |\n| 3 | 25 | female | High School | 12438 | 3 | MORTGAGE |  5500 | MEDICAL   | 12.87 | 0.44 | 3 | 635 | 1 |\n| 4 | 23 | female | Bachelor    | 79753 | 0 | RENT     | 35000 | MEDICAL   | 15.23 | 0.44 | 2 | 675 | 1 |\n| 5 | 24 | male   | Master      | 66135 | 1 | RENT     | 35000 | MEDICAL   | 14.27 | 0.53 | 4 | 586 | 1 |\n| 6 | 21 | female | High School | 12951 | 0 | OWN      |  2500 | VENTURE   |  7.14 | 0.19 | 2 | 532 | 1 |\n\n",
            "text/latex": "A data.frame: 6 × 13\n\\begin{tabular}{r|lllllllllllll}\n  & Umur & JK & PENDIDIKAN & GAJI & LAMA.KERJA & RUMAH & PINJAMAN & PROFESI & BUNGA & PERSENTASE & HISTORI & SCORE & LUNAS\\\\\n  & <int> & <chr> & <chr> & <int> & <int> & <chr> & <int> & <chr> & <dbl> & <dbl> & <int> & <int> & <int>\\\\\n\\hline\n\t1 & 22 & female & Master      & 71948 & 0 & RENT     & 35000 & PERSONAL  & 16.02 & 0.49 & 3 & 561 & 1\\\\\n\t2 & 21 & female & High School & 12282 & 0 & OWN      &  1000 & EDUCATION & 11.14 & 0.08 & 2 & 504 & 0\\\\\n\t3 & 25 & female & High School & 12438 & 3 & MORTGAGE &  5500 & MEDICAL   & 12.87 & 0.44 & 3 & 635 & 1\\\\\n\t4 & 23 & female & Bachelor    & 79753 & 0 & RENT     & 35000 & MEDICAL   & 15.23 & 0.44 & 2 & 675 & 1\\\\\n\t5 & 24 & male   & Master      & 66135 & 1 & RENT     & 35000 & MEDICAL   & 14.27 & 0.53 & 4 & 586 & 1\\\\\n\t6 & 21 & female & High School & 12951 & 0 & OWN      &  2500 & VENTURE   &  7.14 & 0.19 & 2 & 532 & 1\\\\\n\\end{tabular}\n",
            "text/plain": [
              "  Umur JK     PENDIDIKAN  GAJI  LAMA.KERJA RUMAH    PINJAMAN PROFESI   BUNGA\n",
              "1 22   female Master      71948 0          RENT     35000    PERSONAL  16.02\n",
              "2 21   female High School 12282 0          OWN       1000    EDUCATION 11.14\n",
              "3 25   female High School 12438 3          MORTGAGE  5500    MEDICAL   12.87\n",
              "4 23   female Bachelor    79753 0          RENT     35000    MEDICAL   15.23\n",
              "5 24   male   Master      66135 1          RENT     35000    MEDICAL   14.27\n",
              "6 21   female High School 12951 0          OWN       2500    VENTURE    7.14\n",
              "  PERSENTASE HISTORI SCORE LUNAS\n",
              "1 0.49       3       561   1    \n",
              "2 0.08       2       504   0    \n",
              "3 0.44       3       635   1    \n",
              "4 0.44       2       675   1    \n",
              "5 0.53       4       586   1    \n",
              "6 0.19       2       532   1    "
            ]
          },
          "metadata": {}
        },
        {
          "output_type": "stream",
          "name": "stdout",
          "text": [
            "'data.frame':\t45000 obs. of  13 variables:\n",
            " $ Umur      : int  22 21 25 23 24 21 26 24 24 21 ...\n",
            " $ JK        : chr  \"female\" \"female\" \"female\" \"female\" ...\n",
            " $ PENDIDIKAN: chr  \"Master\" \"High School\" \"High School\" \"Bachelor\" ...\n",
            " $ GAJI      : int  71948 12282 12438 79753 66135 12951 93471 95550 100684 12739 ...\n",
            " $ LAMA.KERJA: int  0 0 3 0 1 0 1 5 3 0 ...\n",
            " $ RUMAH     : chr  \"RENT\" \"OWN\" \"MORTGAGE\" \"RENT\" ...\n",
            " $ PINJAMAN  : int  35000 1000 5500 35000 35000 2500 35000 35000 35000 1600 ...\n",
            " $ PROFESI   : chr  \"PERSONAL\" \"EDUCATION\" \"MEDICAL\" \"MEDICAL\" ...\n",
            " $ BUNGA     : num  16 11.1 12.9 15.2 14.3 ...\n",
            " $ PERSENTASE: num  0.49 0.08 0.44 0.44 0.53 0.19 0.37 0.37 0.35 0.13 ...\n",
            " $ HISTORI   : int  3 2 3 2 4 2 3 4 2 3 ...\n",
            " $ SCORE     : int  561 504 635 675 586 532 701 585 544 640 ...\n",
            " $ LUNAS     : int  1 0 1 1 1 1 1 1 1 1 ...\n"
          ]
        }
      ]
    },
    {
      "cell_type": "markdown",
      "source": [
        "Pada tahap selanjutnya, variabel JK,PENDIDIKAN,RUMAH,PROFESI,LUNAS perlu untuk dijadikan variabel faktor\n"
      ],
      "metadata": {
        "id": "a7LdUaRALIMi"
      }
    },
    {
      "cell_type": "code",
      "source": [
        "data<-data%>%\n",
        "  mutate(JK=as.factor(JK),\n",
        "PENDIDIKAN=as.factor(PENDIDIKAN),\n",
        "RUMAH=as.factor(RUMAH),\n",
        "PROFESI=as.factor(PROFESI),\n",
        "LUNAS=as.factor(LUNAS))%>%\n",
        "  na.omit()\n",
        "str(data)"
      ],
      "metadata": {
        "colab": {
          "base_uri": "https://localhost:8080/"
        },
        "id": "kGrUoZuGLExF",
        "outputId": "937bc4c1-a79e-4f47-d4d4-236e94f4ceee"
      },
      "execution_count": 29,
      "outputs": [
        {
          "output_type": "stream",
          "name": "stdout",
          "text": [
            "'data.frame':\t45000 obs. of  13 variables:\n",
            " $ Umur      : int  22 21 25 23 24 21 26 24 24 21 ...\n",
            " $ JK        : Factor w/ 2 levels \"female\",\"male\": 1 1 1 1 2 1 1 1 1 1 ...\n",
            " $ PENDIDIKAN: Factor w/ 5 levels \"Associate\",\"Bachelor\",..: 5 4 4 2 5 4 2 4 1 4 ...\n",
            " $ GAJI      : int  71948 12282 12438 79753 66135 12951 93471 95550 100684 12739 ...\n",
            " $ LAMA.KERJA: int  0 0 3 0 1 0 1 5 3 0 ...\n",
            " $ RUMAH     : Factor w/ 4 levels \"MORTGAGE\",\"OTHER\",..: 4 3 1 4 4 3 4 4 4 3 ...\n",
            " $ PINJAMAN  : int  35000 1000 5500 35000 35000 2500 35000 35000 35000 1600 ...\n",
            " $ PROFESI   : Factor w/ 6 levels \"DEBTCONSOLIDATION\",..: 5 2 4 4 4 6 2 4 5 6 ...\n",
            " $ BUNGA     : num  16 11.1 12.9 15.2 14.3 ...\n",
            " $ PERSENTASE: num  0.49 0.08 0.44 0.44 0.53 0.19 0.37 0.37 0.35 0.13 ...\n",
            " $ HISTORI   : int  3 2 3 2 4 2 3 4 2 3 ...\n",
            " $ SCORE     : int  561 504 635 675 586 532 701 585 544 640 ...\n",
            " $ LUNAS     : Factor w/ 2 levels \"0\",\"1\": 2 1 2 2 2 2 2 2 2 2 ...\n"
          ]
        }
      ]
    },
    {
      "cell_type": "markdown",
      "source": [
        "Selanjutnya dibentuk model Regresi Logistik dengan  Variabel LUNAS sebagai variabel dependen dan variabel independen nya adalah Umur,JK,Pendidikan,GAJI,LAMA KERJA,RUMAH,PINJAMAN,PROFESI,BUNGA,PERSENTASE,HISTORI,SCORE"
      ],
      "metadata": {
        "id": "EM5XfPbwM1AX"
      }
    },
    {
      "cell_type": "code",
      "source": [
        "reglog<-glm(LUNAS~Umur+JK+PENDIDIKAN+GAJI+LAMA.KERJA+RUMAH+PINJAMAN+PROFESI+BUNGA+PERSENTASE+HISTORI+SCORE,data=data,family=binomial(link='logit'))\n",
        "summary(reglog)"
      ],
      "metadata": {
        "colab": {
          "base_uri": "https://localhost:8080/",
          "height": 741
        },
        "id": "mqYV6QbZcklm",
        "outputId": "a677d2ed-bbaa-4f8a-a9d5-baf2f6b2c7c7"
      },
      "execution_count": 30,
      "outputs": [
        {
          "output_type": "display_data",
          "data": {
            "text/plain": [
              "\n",
              "Call:\n",
              "glm(formula = LUNAS ~ Umur + JK + PENDIDIKAN + GAJI + LAMA.KERJA + \n",
              "    RUMAH + PINJAMAN + PROFESI + BUNGA + PERSENTASE + HISTORI + \n",
              "    SCORE, family = binomial(link = \"logit\"), data = data)\n",
              "\n",
              "Coefficients:\n",
              "                         Estimate Std. Error z value Pr(>|z|)    \n",
              "(Intercept)            -6.708e+00  2.738e-01 -24.497  < 2e-16 ***\n",
              "Umur                    6.568e-03  8.762e-03   0.750 0.453491    \n",
              "JKmale                  8.960e-03  2.820e-02   0.318 0.750709    \n",
              "PENDIDIKANBachelor      1.816e-02  3.755e-02   0.484 0.628623    \n",
              "PENDIDIKANDoctorate     7.465e-02  1.240e-01   0.602 0.547269    \n",
              "PENDIDIKANHigh School   2.598e-02  3.856e-02   0.674 0.500453    \n",
              "PENDIDIKANMaster        1.768e-02  4.532e-02   0.390 0.696388    \n",
              "GAJI                    7.493e-07  1.964e-07   3.816 0.000136 ***\n",
              "LAMA.KERJA             -8.966e-03  7.764e-03  -1.155 0.248189    \n",
              "RUMAHOTHER              7.675e-01  2.456e-01   3.125 0.001779 ** \n",
              "RUMAHOWN               -1.430e+00  8.720e-02 -16.402  < 2e-16 ***\n",
              "RUMAHRENT               8.743e-01  3.282e-02  26.637  < 2e-16 ***\n",
              "PINJAMAN               -1.008e-04  3.322e-06 -30.332  < 2e-16 ***\n",
              "PROFESIEDUCATION       -9.391e-01  4.649e-02 -20.200  < 2e-16 ***\n",
              "PROFESIHOMEIMPROVEMENT -1.906e-02  5.202e-02  -0.366 0.714122    \n",
              "PROFESIMEDICAL         -2.921e-01  4.384e-02  -6.663 2.69e-11 ***\n",
              "PROFESIPERSONAL        -6.773e-01  4.765e-02 -14.213  < 2e-16 ***\n",
              "PROFESIVENTURE         -1.178e+00  5.071e-02 -23.227  < 2e-16 ***\n",
              "BUNGA                   3.376e-01  5.403e-03  62.486  < 2e-16 ***\n",
              "PERSENTASE              1.591e+01  2.407e-01  66.110  < 2e-16 ***\n",
              "HISTORI                -1.039e-03  7.371e-03  -0.141 0.887917    \n",
              "SCORE                  -2.767e-04  2.880e-04  -0.961 0.336566    \n",
              "---\n",
              "Signif. codes:  0 ‘***’ 0.001 ‘**’ 0.01 ‘*’ 0.05 ‘.’ 0.1 ‘ ’ 1\n",
              "\n",
              "(Dispersion parameter for binomial family taken to be 1)\n",
              "\n",
              "    Null deviance: 47674  on 44999  degrees of freedom\n",
              "Residual deviance: 32456  on 44978  degrees of freedom\n",
              "AIC: 32500\n",
              "\n",
              "Number of Fisher Scoring iterations: 6\n"
            ]
          },
          "metadata": {}
        }
      ]
    },
    {
      "cell_type": "markdown",
      "source": [
        "Untuk menguji kelayakan model regresi logisik, seperti hal nya pada regresi linier yang perlu dilakukan uji kenormalan residual, maka model regresi logistik reglog harus diuji dengan Uji kelayakan Model Hosmer- Lemeshow."
      ],
      "metadata": {
        "id": "ZE6dCM1fy4h_"
      }
    },
    {
      "cell_type": "code",
      "source": [
        "install.packages(\"generalhoslem\")\n",
        "library(generalhoslem)\n",
        "logitgof(data$LUNAS,fitted((reglog)))"
      ],
      "metadata": {
        "colab": {
          "base_uri": "https://localhost:8080/",
          "height": 162
        },
        "id": "WDIu8u9VzTEs",
        "outputId": "f554c28a-b333-4eff-e955-a36f77301615"
      },
      "execution_count": 31,
      "outputs": [
        {
          "output_type": "stream",
          "name": "stderr",
          "text": [
            "Installing package into ‘/usr/local/lib/R/site-library’\n",
            "(as ‘lib’ is unspecified)\n",
            "\n"
          ]
        },
        {
          "output_type": "display_data",
          "data": {
            "text/plain": [
              "\n",
              "\tHosmer and Lemeshow test (binary model)\n",
              "\n",
              "data:  data$LUNAS, fitted((reglog))\n",
              "X-squared = 106.13, df = 8, p-value < 2.2e-16\n"
            ]
          },
          "metadata": {}
        }
      ]
    },
    {
      "cell_type": "markdown",
      "source": [
        "Tampak bahwa pval < 0.05 sehingga model regresi logistik reglog belum dikatakan layak. Tahap berikutnya, perlu dilakukan eleminasi data outlier dengan menggunakan, menggunakan Residual Deviance (Deviance Residuals).\n"
      ],
      "metadata": {
        "id": "fsPskdCr07PM"
      }
    },
    {
      "cell_type": "code",
      "source": [
        "deviance_residuals <- residuals(reglog, type = \"deviance\")\n",
        "threshold <- mean(deviance_residuals) + 3 * sd(deviance_residuals)\n",
        "outliers <- which(abs(deviance_residuals) > threshold)\n",
        "data_clean <- data[-outliers, ]\n",
        "dim(data_clean)"
      ],
      "metadata": {
        "id": "_bDLRAJ39XUv",
        "colab": {
          "base_uri": "https://localhost:8080/",
          "height": 34
        },
        "outputId": "da523b7e-1ff4-4515-c99c-b67639e4183f"
      },
      "execution_count": 32,
      "outputs": [
        {
          "output_type": "display_data",
          "data": {
            "text/html": [
              "<style>\n",
              ".list-inline {list-style: none; margin:0; padding: 0}\n",
              ".list-inline>li {display: inline-block}\n",
              ".list-inline>li:not(:last-child)::after {content: \"\\00b7\"; padding: 0 .5ex}\n",
              "</style>\n",
              "<ol class=list-inline><li>44521</li><li>13</li></ol>\n"
            ],
            "text/markdown": "1. 44521\n2. 13\n\n\n",
            "text/latex": "\\begin{enumerate*}\n\\item 44521\n\\item 13\n\\end{enumerate*}\n",
            "text/plain": [
              "[1] 44521    13"
            ]
          },
          "metadata": {}
        }
      ]
    },
    {
      "cell_type": "markdown",
      "source": [
        "Selanjutnya, dapatkan model regresi logistik untuk data_clean,"
      ],
      "metadata": {
        "id": "bHIxxfcT9l9G"
      }
    },
    {
      "cell_type": "code",
      "source": [
        "reglog1<-glm(LUNAS~Umur+JK+PENDIDIKAN+GAJI+LAMA.KERJA+RUMAH+PINJAMAN+PROFESI+BUNGA+PERSENTASE+HISTORI+SCORE,data=data_clean,family=binomial(link='logit'))\n",
        "summary(reglog1)"
      ],
      "metadata": {
        "colab": {
          "base_uri": "https://localhost:8080/",
          "height": 741
        },
        "id": "r5JwtvYG9hT-",
        "outputId": "a86ff116-169c-4915-dc2e-ac75e8a9ea32"
      },
      "execution_count": 33,
      "outputs": [
        {
          "output_type": "display_data",
          "data": {
            "text/plain": [
              "\n",
              "Call:\n",
              "glm(formula = LUNAS ~ Umur + JK + PENDIDIKAN + GAJI + LAMA.KERJA + \n",
              "    RUMAH + PINJAMAN + PROFESI + BUNGA + PERSENTASE + HISTORI + \n",
              "    SCORE, family = binomial(link = \"logit\"), data = data_clean)\n",
              "\n",
              "Coefficients:\n",
              "                         Estimate Std. Error z value Pr(>|z|)    \n",
              "(Intercept)            -8.092e+00  2.944e-01 -27.490  < 2e-16 ***\n",
              "Umur                    1.267e-02  9.336e-03   1.357 0.174711    \n",
              "JKmale                 -2.553e-03  3.007e-02  -0.085 0.932333    \n",
              "PENDIDIKANBachelor      9.528e-03  3.999e-02   0.238 0.811673    \n",
              "PENDIDIKANDoctorate     9.148e-02  1.324e-01   0.691 0.489623    \n",
              "PENDIDIKANHigh School   7.747e-03  4.113e-02   0.188 0.850588    \n",
              "PENDIDIKANMaster       -5.438e-03  4.836e-02  -0.112 0.910467    \n",
              "GAJI                    5.804e-07  2.179e-07   2.663 0.007744 ** \n",
              "LAMA.KERJA             -1.358e-02  8.278e-03  -1.640 0.100976    \n",
              "RUMAHOTHER              9.218e-01  2.594e-01   3.554 0.000379 ***\n",
              "RUMAHOWN               -1.695e+00  9.989e-02 -16.973  < 2e-16 ***\n",
              "RUMAHRENT               1.115e+00  3.595e-02  31.013  < 2e-16 ***\n",
              "PINJAMAN               -1.115e-04  3.573e-06 -31.211  < 2e-16 ***\n",
              "PROFESIEDUCATION       -1.101e+00  4.983e-02 -22.097  < 2e-16 ***\n",
              "PROFESIHOMEIMPROVEMENT -1.821e-02  5.525e-02  -0.330 0.741743    \n",
              "PROFESIMEDICAL         -3.492e-01  4.646e-02  -7.516 5.66e-14 ***\n",
              "PROFESIPERSONAL        -8.214e-01  5.100e-02 -16.106  < 2e-16 ***\n",
              "PROFESIVENTURE         -1.291e+00  5.400e-02 -23.908  < 2e-16 ***\n",
              "BUNGA                   4.020e-01  6.049e-03  66.460  < 2e-16 ***\n",
              "PERSENTASE              1.809e+01  2.647e-01  68.344  < 2e-16 ***\n",
              "HISTORI                -7.384e-03  7.868e-03  -0.938 0.348027    \n",
              "SCORE                  -1.497e-04  3.070e-04  -0.488 0.625835    \n",
              "---\n",
              "Signif. codes:  0 ‘***’ 0.001 ‘**’ 0.01 ‘*’ 0.05 ‘.’ 0.1 ‘ ’ 1\n",
              "\n",
              "(Dispersion parameter for binomial family taken to be 1)\n",
              "\n",
              "    Null deviance: 46238  on 44520  degrees of freedom\n",
              "Residual deviance: 28760  on 44499  degrees of freedom\n",
              "AIC: 28804\n",
              "\n",
              "Number of Fisher Scoring iterations: 6\n"
            ]
          },
          "metadata": {}
        }
      ]
    },
    {
      "cell_type": "code",
      "source": [
        "#Uji kelayakan Model Hosmer- Lemeshow.\n",
        "library(generalhoslem)\n",
        "logitgof(data_clean$LUNAS,fitted((reglog1)))"
      ],
      "metadata": {
        "colab": {
          "base_uri": "https://localhost:8080/",
          "height": 108
        },
        "id": "gDC4M68f98sH",
        "outputId": "8147de33-a6aa-4d75-ae3c-28d40c6fc31c"
      },
      "execution_count": 34,
      "outputs": [
        {
          "output_type": "display_data",
          "data": {
            "text/plain": [
              "\n",
              "\tHosmer and Lemeshow test (binary model)\n",
              "\n",
              "data:  data_clean$LUNAS, fitted((reglog1))\n",
              "X-squared = 301.91, df = 8, p-value < 2.2e-16\n"
            ]
          },
          "metadata": {}
        }
      ]
    },
    {
      "cell_type": "markdown",
      "source": [
        "Masih belum layak. Oleh karena itu, cara lain yang bisa digunakan adalah meregresi data menggunakan stepwise regression, yakni menggunakan variabel variabel yang signifikan terhadap data dan membuang variabel yang tidak signifikan thd data."
      ],
      "metadata": {
        "id": "fpxcUhzH-K99"
      }
    },
    {
      "cell_type": "code",
      "source": [
        "stepreg1<-step(reglog1)"
      ],
      "metadata": {
        "colab": {
          "base_uri": "https://localhost:8080/"
        },
        "id": "oCOzJkIO-gX9",
        "outputId": "c5f5d265-4d1f-4e1f-8ee0-67cd56731dc1"
      },
      "execution_count": 35,
      "outputs": [
        {
          "output_type": "stream",
          "name": "stdout",
          "text": [
            "Start:  AIC=28804.43\n",
            "LUNAS ~ Umur + JK + PENDIDIKAN + GAJI + LAMA.KERJA + RUMAH + \n",
            "    PINJAMAN + PROFESI + BUNGA + PERSENTASE + HISTORI + SCORE\n",
            "\n"
          ]
        },
        {
          "output_type": "stream",
          "name": "stderr",
          "text": [
            "Warning message:\n",
            "“glm.fit: fitted probabilities numerically 0 or 1 occurred”\n",
            "Warning message:\n",
            "“glm.fit: fitted probabilities numerically 0 or 1 occurred”\n"
          ]
        },
        {
          "output_type": "stream",
          "name": "stdout",
          "text": [
            "             Df Deviance   AIC\n",
            "- PENDIDIKAN  4    28761 28797\n",
            "- JK          1    28760 28802\n",
            "- SCORE       1    28761 28803\n",
            "- HISTORI     1    28761 28803\n",
            "- Umur        1    28762 28804\n",
            "<none>             28760 28804\n",
            "- LAMA.KERJA  1    28763 28805\n",
            "- GAJI        1    28765 28807\n",
            "- PINJAMAN    1    29276 29318\n",
            "- PROFESI     5    29828 29862\n",
            "- RUMAH       3    30884 30922\n",
            "- PERSENTASE  1    31310 31352\n",
            "- BUNGA       1    34516 34558\n",
            "\n",
            "Step:  AIC=28797.01\n",
            "LUNAS ~ Umur + JK + GAJI + LAMA.KERJA + RUMAH + PINJAMAN + PROFESI + \n",
            "    BUNGA + PERSENTASE + HISTORI + SCORE\n",
            "\n"
          ]
        },
        {
          "output_type": "stream",
          "name": "stderr",
          "text": [
            "Warning message:\n",
            "“glm.fit: fitted probabilities numerically 0 or 1 occurred”\n",
            "Warning message:\n",
            "“glm.fit: fitted probabilities numerically 0 or 1 occurred”\n"
          ]
        },
        {
          "output_type": "stream",
          "name": "stdout",
          "text": [
            "             Df Deviance   AIC\n",
            "- JK          1    28761 28795\n",
            "- SCORE       1    28761 28795\n",
            "- HISTORI     1    28762 28796\n",
            "- Umur        1    28763 28797\n",
            "<none>             28761 28797\n",
            "- LAMA.KERJA  1    28764 28798\n",
            "- GAJI        1    28765 28799\n",
            "- PINJAMAN    1    29277 29311\n",
            "- PROFESI     5    29829 29855\n",
            "- RUMAH       3    30885 30915\n",
            "- PERSENTASE  1    31312 31346\n",
            "- BUNGA       1    34517 34551\n",
            "\n",
            "Step:  AIC=28795.02\n",
            "LUNAS ~ Umur + GAJI + LAMA.KERJA + RUMAH + PINJAMAN + PROFESI + \n",
            "    BUNGA + PERSENTASE + HISTORI + SCORE\n",
            "\n"
          ]
        },
        {
          "output_type": "stream",
          "name": "stderr",
          "text": [
            "Warning message:\n",
            "“glm.fit: fitted probabilities numerically 0 or 1 occurred”\n",
            "Warning message:\n",
            "“glm.fit: fitted probabilities numerically 0 or 1 occurred”\n"
          ]
        },
        {
          "output_type": "stream",
          "name": "stdout",
          "text": [
            "             Df Deviance   AIC\n",
            "- SCORE       1    28761 28793\n",
            "- HISTORI     1    28762 28794\n",
            "- Umur        1    28763 28795\n",
            "<none>             28761 28795\n",
            "- LAMA.KERJA  1    28764 28796\n",
            "- GAJI        1    28765 28797\n",
            "- PINJAMAN    1    29277 29309\n",
            "- PROFESI     5    29829 29853\n",
            "- RUMAH       3    30885 30913\n",
            "- PERSENTASE  1    31312 31344\n",
            "- BUNGA       1    34517 34549\n",
            "\n",
            "Step:  AIC=28793.26\n",
            "LUNAS ~ Umur + GAJI + LAMA.KERJA + RUMAH + PINJAMAN + PROFESI + \n",
            "    BUNGA + PERSENTASE + HISTORI\n",
            "\n"
          ]
        },
        {
          "output_type": "stream",
          "name": "stderr",
          "text": [
            "Warning message:\n",
            "“glm.fit: fitted probabilities numerically 0 or 1 occurred”\n",
            "Warning message:\n",
            "“glm.fit: fitted probabilities numerically 0 or 1 occurred”\n"
          ]
        },
        {
          "output_type": "stream",
          "name": "stdout",
          "text": [
            "             Df Deviance   AIC\n",
            "- HISTORI     1    28762 28792\n",
            "- Umur        1    28763 28793\n",
            "<none>             28761 28793\n",
            "- LAMA.KERJA  1    28764 28794\n",
            "- GAJI        1    28766 28796\n",
            "- PINJAMAN    1    29277 29307\n",
            "- PROFESI     5    29830 29852\n",
            "- RUMAH       3    30885 30911\n",
            "- PERSENTASE  1    31312 31342\n",
            "- BUNGA       1    34517 34547\n",
            "\n",
            "Step:  AIC=28792.1\n",
            "LUNAS ~ Umur + GAJI + LAMA.KERJA + RUMAH + PINJAMAN + PROFESI + \n",
            "    BUNGA + PERSENTASE\n",
            "\n"
          ]
        },
        {
          "output_type": "stream",
          "name": "stderr",
          "text": [
            "Warning message:\n",
            "“glm.fit: fitted probabilities numerically 0 or 1 occurred”\n",
            "Warning message:\n",
            "“glm.fit: fitted probabilities numerically 0 or 1 occurred”\n"
          ]
        },
        {
          "output_type": "stream",
          "name": "stdout",
          "text": [
            "             Df Deviance   AIC\n",
            "- Umur        1    28763 28791\n",
            "<none>             28762 28792\n",
            "- LAMA.KERJA  1    28765 28793\n",
            "- GAJI        1    28767 28795\n",
            "- PINJAMAN    1    29278 29306\n",
            "- PROFESI     5    29832 29852\n",
            "- RUMAH       3    30886 30910\n",
            "- PERSENTASE  1    31312 31340\n",
            "- BUNGA       1    34517 34545\n",
            "\n",
            "Step:  AIC=28791.23\n",
            "LUNAS ~ GAJI + LAMA.KERJA + RUMAH + PINJAMAN + PROFESI + BUNGA + \n",
            "    PERSENTASE\n",
            "\n"
          ]
        },
        {
          "output_type": "stream",
          "name": "stderr",
          "text": [
            "Warning message:\n",
            "“glm.fit: fitted probabilities numerically 0 or 1 occurred”\n",
            "Warning message:\n",
            "“glm.fit: fitted probabilities numerically 0 or 1 occurred”\n"
          ]
        },
        {
          "output_type": "stream",
          "name": "stdout",
          "text": [
            "             Df Deviance   AIC\n",
            "<none>             28763 28791\n",
            "- LAMA.KERJA  1    28768 28794\n",
            "- GAJI        1    28768 28794\n",
            "- PINJAMAN    1    29279 29305\n",
            "- PROFESI     5    29836 29854\n",
            "- RUMAH       3    30888 30910\n",
            "- PERSENTASE  1    31313 31339\n",
            "- BUNGA       1    34517 34543\n"
          ]
        }
      ]
    },
    {
      "cell_type": "code",
      "source": [
        "summary(stepreg1)"
      ],
      "metadata": {
        "colab": {
          "base_uri": "https://localhost:8080/",
          "height": 596
        },
        "id": "NZqL837Q-oqH",
        "outputId": "6151d47a-0726-4dda-fa7f-607f9db3f0c2"
      },
      "execution_count": 36,
      "outputs": [
        {
          "output_type": "display_data",
          "data": {
            "text/plain": [
              "\n",
              "Call:\n",
              "glm(formula = LUNAS ~ GAJI + LAMA.KERJA + RUMAH + PINJAMAN + \n",
              "    PROFESI + BUNGA + PERSENTASE, family = binomial(link = \"logit\"), \n",
              "    data = data_clean)\n",
              "\n",
              "Coefficients:\n",
              "                         Estimate Std. Error z value Pr(>|z|)    \n",
              "(Intercept)            -7.918e+00  9.755e-02 -81.164  < 2e-16 ***\n",
              "GAJI                    6.237e-07  2.146e-07   2.906 0.003657 ** \n",
              "LAMA.KERJA             -5.638e-03  2.557e-03  -2.205 0.027440 *  \n",
              "RUMAHOTHER              9.199e-01  2.592e-01   3.550 0.000386 ***\n",
              "RUMAHOWN               -1.698e+00  9.987e-02 -16.998  < 2e-16 ***\n",
              "RUMAHRENT               1.114e+00  3.594e-02  31.003  < 2e-16 ***\n",
              "PINJAMAN               -1.116e-04  3.568e-06 -31.273  < 2e-16 ***\n",
              "PROFESIEDUCATION       -1.103e+00  4.979e-02 -22.161  < 2e-16 ***\n",
              "PROFESIHOMEIMPROVEMENT -1.708e-02  5.522e-02  -0.309 0.757050    \n",
              "PROFESIMEDICAL         -3.490e-01  4.645e-02  -7.515  5.7e-14 ***\n",
              "PROFESIPERSONAL        -8.224e-01  5.099e-02 -16.127  < 2e-16 ***\n",
              "PROFESIVENTURE         -1.291e+00  5.399e-02 -23.923  < 2e-16 ***\n",
              "BUNGA                   4.019e-01  6.047e-03  66.455  < 2e-16 ***\n",
              "PERSENTASE              1.810e+01  2.646e-01  68.411  < 2e-16 ***\n",
              "---\n",
              "Signif. codes:  0 ‘***’ 0.001 ‘**’ 0.01 ‘*’ 0.05 ‘.’ 0.1 ‘ ’ 1\n",
              "\n",
              "(Dispersion parameter for binomial family taken to be 1)\n",
              "\n",
              "    Null deviance: 46238  on 44520  degrees of freedom\n",
              "Residual deviance: 28763  on 44507  degrees of freedom\n",
              "AIC: 28791\n",
              "\n",
              "Number of Fisher Scoring iterations: 6\n"
            ]
          },
          "metadata": {}
        }
      ]
    },
    {
      "cell_type": "markdown",
      "source": [
        "Tampak bahwa variabel yang berpengaruh secara signifikan adalah :  GAJI,LAMA.KERJA,RUMAH, PINJAMAN,PROFESI,BUNGA, PERSENTASE, dan yang tidak digunakan adalah Umur,JK,PENDIDIKAN,HISTORI,SCORE. Selanjutnya, dilakukan uji kelayakan model"
      ],
      "metadata": {
        "id": "uFE8cRPTBKLX"
      }
    },
    {
      "cell_type": "code",
      "source": [
        "#Uji kelayakan Model Hosmer- Lemeshow.\n",
        "library(generalhoslem)\n",
        "logitgof(data_clean$LUNAS,fitted((stepreg1)))"
      ],
      "metadata": {
        "colab": {
          "base_uri": "https://localhost:8080/",
          "height": 108
        },
        "id": "TMPEiYYICb2f",
        "outputId": "ae3f1e94-26b8-4983-b7bc-8bfa59768649"
      },
      "execution_count": 37,
      "outputs": [
        {
          "output_type": "display_data",
          "data": {
            "text/plain": [
              "\n",
              "\tHosmer and Lemeshow test (binary model)\n",
              "\n",
              "data:  data_clean$LUNAS, fitted((stepreg1))\n",
              "X-squared = 304.34, df = 8, p-value < 2.2e-16\n"
            ]
          },
          "metadata": {}
        }
      ]
    },
    {
      "cell_type": "markdown",
      "source": [
        "Model stepreg1 masih belum layak karena pvalue < 0.05. Namun, untuk asumsi multikolonieritas nya sudah terpenihi."
      ],
      "metadata": {
        "id": "h71-g0LJDFen"
      }
    },
    {
      "cell_type": "code",
      "source": [
        "install.packages(\"car\")\n",
        "library(car)\n",
        "vif(stepreg1)"
      ],
      "metadata": {
        "colab": {
          "base_uri": "https://localhost:8080/",
          "height": 340
        },
        "id": "_ie6-J8DDEsH",
        "outputId": "b23af8c6-1d75-4b93-92a4-b487337ad3b3"
      },
      "execution_count": 38,
      "outputs": [
        {
          "output_type": "stream",
          "name": "stderr",
          "text": [
            "Installing package into ‘/usr/local/lib/R/site-library’\n",
            "(as ‘lib’ is unspecified)\n",
            "\n"
          ]
        },
        {
          "output_type": "display_data",
          "data": {
            "text/html": [
              "<table class=\"dataframe\">\n",
              "<caption>A matrix: 7 × 3 of type dbl</caption>\n",
              "<thead>\n",
              "\t<tr><th></th><th scope=col>GVIF</th><th scope=col>Df</th><th scope=col>GVIF^(1/(2*Df))</th></tr>\n",
              "</thead>\n",
              "<tbody>\n",
              "\t<tr><th scope=row>GAJI</th><td>1.229947</td><td>1</td><td>1.109030</td></tr>\n",
              "\t<tr><th scope=row>LAMA.KERJA</th><td>1.047935</td><td>1</td><td>1.023687</td></tr>\n",
              "\t<tr><th scope=row>RUMAH</th><td>1.142733</td><td>3</td><td>1.022486</td></tr>\n",
              "\t<tr><th scope=row>PINJAMAN</th><td>2.237148</td><td>1</td><td>1.495710</td></tr>\n",
              "\t<tr><th scope=row>PROFESI</th><td>1.073733</td><td>5</td><td>1.007140</td></tr>\n",
              "\t<tr><th scope=row>BUNGA</th><td>1.156955</td><td>1</td><td>1.075618</td></tr>\n",
              "\t<tr><th scope=row>PERSENTASE</th><td>2.306434</td><td>1</td><td>1.518695</td></tr>\n",
              "</tbody>\n",
              "</table>\n"
            ],
            "text/markdown": "\nA matrix: 7 × 3 of type dbl\n\n| <!--/--> | GVIF | Df | GVIF^(1/(2*Df)) |\n|---|---|---|---|\n| GAJI | 1.229947 | 1 | 1.109030 |\n| LAMA.KERJA | 1.047935 | 1 | 1.023687 |\n| RUMAH | 1.142733 | 3 | 1.022486 |\n| PINJAMAN | 2.237148 | 1 | 1.495710 |\n| PROFESI | 1.073733 | 5 | 1.007140 |\n| BUNGA | 1.156955 | 1 | 1.075618 |\n| PERSENTASE | 2.306434 | 1 | 1.518695 |\n\n",
            "text/latex": "A matrix: 7 × 3 of type dbl\n\\begin{tabular}{r|lll}\n  & GVIF & Df & GVIF\\textasciicircum{}(1/(2*Df))\\\\\n\\hline\n\tGAJI & 1.229947 & 1 & 1.109030\\\\\n\tLAMA.KERJA & 1.047935 & 1 & 1.023687\\\\\n\tRUMAH & 1.142733 & 3 & 1.022486\\\\\n\tPINJAMAN & 2.237148 & 1 & 1.495710\\\\\n\tPROFESI & 1.073733 & 5 & 1.007140\\\\\n\tBUNGA & 1.156955 & 1 & 1.075618\\\\\n\tPERSENTASE & 2.306434 & 1 & 1.518695\\\\\n\\end{tabular}\n",
            "text/plain": [
              "           GVIF     Df GVIF^(1/(2*Df))\n",
              "GAJI       1.229947 1  1.109030       \n",
              "LAMA.KERJA 1.047935 1  1.023687       \n",
              "RUMAH      1.142733 3  1.022486       \n",
              "PINJAMAN   2.237148 1  1.495710       \n",
              "PROFESI    1.073733 5  1.007140       \n",
              "BUNGA      1.156955 1  1.075618       \n",
              "PERSENTASE 2.306434 1  1.518695       "
            ]
          },
          "metadata": {}
        }
      ]
    },
    {
      "cell_type": "markdown",
      "source": [
        "Signifikasi model, kita harus menunjukkan bahwa nilai $G2>qchisq(0.95,7)$ karena ada 7 variabel."
      ],
      "metadata": {
        "id": "pon7W2WTGf0d"
      }
    },
    {
      "cell_type": "code",
      "source": [
        "install.packages(\"pscl\")\n",
        "library(pscl)\n",
        "pR2(stepreg1)\n",
        "qchisq(0.95,7)"
      ],
      "metadata": {
        "id": "YO41mk8yGSUW",
        "colab": {
          "base_uri": "https://localhost:8080/",
          "height": 124
        },
        "outputId": "ebee96cb-785f-4698-a9be-11d86e0efe72"
      },
      "execution_count": 39,
      "outputs": [
        {
          "output_type": "stream",
          "name": "stderr",
          "text": [
            "Installing package into ‘/usr/local/lib/R/site-library’\n",
            "(as ‘lib’ is unspecified)\n",
            "\n"
          ]
        },
        {
          "output_type": "stream",
          "name": "stdout",
          "text": [
            "fitting null model for pseudo-r2\n"
          ]
        },
        {
          "output_type": "display_data",
          "data": {
            "text/html": [
              "<style>\n",
              ".dl-inline {width: auto; margin:0; padding: 0}\n",
              ".dl-inline>dt, .dl-inline>dd {float: none; width: auto; display: inline-block}\n",
              ".dl-inline>dt::after {content: \":\\0020\"; padding-right: .5ex}\n",
              ".dl-inline>dt:not(:first-of-type) {padding-left: .5ex}\n",
              "</style><dl class=dl-inline><dt>llh</dt><dd>-14381.6133155403</dd><dt>llhNull</dt><dd>-23118.935809236</dd><dt>G2</dt><dd>17474.6449873914</dd><dt>McFadden</dt><dd>0.377929268275624</dd><dt>r2ML</dt><dd>0.324635966818189</dd><dt>r2CU</dt><dd>0.502503593918223</dd></dl>\n"
            ],
            "text/markdown": "llh\n:   -14381.6133155403llhNull\n:   -23118.935809236G2\n:   17474.6449873914McFadden\n:   0.377929268275624r2ML\n:   0.324635966818189r2CU\n:   0.502503593918223\n\n",
            "text/latex": "\\begin{description*}\n\\item[llh] -14381.6133155403\n\\item[llhNull] -23118.935809236\n\\item[G2] 17474.6449873914\n\\item[McFadden] 0.377929268275624\n\\item[r2ML] 0.324635966818189\n\\item[r2CU] 0.502503593918223\n\\end{description*}\n",
            "text/plain": [
              "          llh       llhNull            G2      McFadden          r2ML \n",
              "-1.438161e+04 -2.311894e+04  1.747464e+04  3.779293e-01  3.246360e-01 \n",
              "         r2CU \n",
              " 5.025036e-01 "
            ]
          },
          "metadata": {}
        },
        {
          "output_type": "display_data",
          "data": {
            "text/html": [
              "14.0671404493402"
            ],
            "text/markdown": "14.0671404493402",
            "text/latex": "14.0671404493402",
            "text/plain": [
              "[1] 14.06714"
            ]
          },
          "metadata": {}
        }
      ]
    },
    {
      "cell_type": "markdown",
      "source": [
        "Tampak bahwa $G2=11169.2251497919>14.0671404493402$. Sehingga, model nya terbukti signifikan. Selanjutnya, dilakukan uji T"
      ],
      "metadata": {
        "id": "lyqy6GYNHH5W"
      }
    },
    {
      "cell_type": "code",
      "source": [
        "#Uji T/uji Watt, uji T pada regresi linier\n",
        "summary(stepreg1)$coefficient%>%\n",
        "  round(4)"
      ],
      "metadata": {
        "colab": {
          "base_uri": "https://localhost:8080/",
          "height": 505
        },
        "id": "YQg-JFlcZqb4",
        "outputId": "d3a4094f-3b78-4c8d-bb7d-c198e511e589"
      },
      "execution_count": 40,
      "outputs": [
        {
          "output_type": "display_data",
          "data": {
            "text/html": [
              "<table class=\"dataframe\">\n",
              "<caption>A matrix: 14 × 4 of type dbl</caption>\n",
              "<thead>\n",
              "\t<tr><th></th><th scope=col>Estimate</th><th scope=col>Std. Error</th><th scope=col>z value</th><th scope=col>Pr(&gt;|z|)</th></tr>\n",
              "</thead>\n",
              "<tbody>\n",
              "\t<tr><th scope=row>(Intercept)</th><td>-7.9177</td><td>0.0976</td><td>-81.1645</td><td>0.0000</td></tr>\n",
              "\t<tr><th scope=row>GAJI</th><td> 0.0000</td><td>0.0000</td><td>  2.9063</td><td>0.0037</td></tr>\n",
              "\t<tr><th scope=row>LAMA.KERJA</th><td>-0.0056</td><td>0.0026</td><td> -2.2052</td><td>0.0274</td></tr>\n",
              "\t<tr><th scope=row>RUMAHOTHER</th><td> 0.9199</td><td>0.2592</td><td>  3.5497</td><td>0.0004</td></tr>\n",
              "\t<tr><th scope=row>RUMAHOWN</th><td>-1.6976</td><td>0.0999</td><td>-16.9984</td><td>0.0000</td></tr>\n",
              "\t<tr><th scope=row>RUMAHRENT</th><td> 1.1142</td><td>0.0359</td><td> 31.0032</td><td>0.0000</td></tr>\n",
              "\t<tr><th scope=row>PINJAMAN</th><td>-0.0001</td><td>0.0000</td><td>-31.2728</td><td>0.0000</td></tr>\n",
              "\t<tr><th scope=row>PROFESIEDUCATION</th><td>-1.1034</td><td>0.0498</td><td>-22.1614</td><td>0.0000</td></tr>\n",
              "\t<tr><th scope=row>PROFESIHOMEIMPROVEMENT</th><td>-0.0171</td><td>0.0552</td><td> -0.3094</td><td>0.7570</td></tr>\n",
              "\t<tr><th scope=row>PROFESIMEDICAL</th><td>-0.3490</td><td>0.0464</td><td> -7.5147</td><td>0.0000</td></tr>\n",
              "\t<tr><th scope=row>PROFESIPERSONAL</th><td>-0.8224</td><td>0.0510</td><td>-16.1275</td><td>0.0000</td></tr>\n",
              "\t<tr><th scope=row>PROFESIVENTURE</th><td>-1.2915</td><td>0.0540</td><td>-23.9231</td><td>0.0000</td></tr>\n",
              "\t<tr><th scope=row>BUNGA</th><td> 0.4019</td><td>0.0060</td><td> 66.4555</td><td>0.0000</td></tr>\n",
              "\t<tr><th scope=row>PERSENTASE</th><td>18.0983</td><td>0.2646</td><td> 68.4110</td><td>0.0000</td></tr>\n",
              "</tbody>\n",
              "</table>\n"
            ],
            "text/markdown": "\nA matrix: 14 × 4 of type dbl\n\n| <!--/--> | Estimate | Std. Error | z value | Pr(&gt;|z|) |\n|---|---|---|---|---|\n| (Intercept) | -7.9177 | 0.0976 | -81.1645 | 0.0000 |\n| GAJI |  0.0000 | 0.0000 |   2.9063 | 0.0037 |\n| LAMA.KERJA | -0.0056 | 0.0026 |  -2.2052 | 0.0274 |\n| RUMAHOTHER |  0.9199 | 0.2592 |   3.5497 | 0.0004 |\n| RUMAHOWN | -1.6976 | 0.0999 | -16.9984 | 0.0000 |\n| RUMAHRENT |  1.1142 | 0.0359 |  31.0032 | 0.0000 |\n| PINJAMAN | -0.0001 | 0.0000 | -31.2728 | 0.0000 |\n| PROFESIEDUCATION | -1.1034 | 0.0498 | -22.1614 | 0.0000 |\n| PROFESIHOMEIMPROVEMENT | -0.0171 | 0.0552 |  -0.3094 | 0.7570 |\n| PROFESIMEDICAL | -0.3490 | 0.0464 |  -7.5147 | 0.0000 |\n| PROFESIPERSONAL | -0.8224 | 0.0510 | -16.1275 | 0.0000 |\n| PROFESIVENTURE | -1.2915 | 0.0540 | -23.9231 | 0.0000 |\n| BUNGA |  0.4019 | 0.0060 |  66.4555 | 0.0000 |\n| PERSENTASE | 18.0983 | 0.2646 |  68.4110 | 0.0000 |\n\n",
            "text/latex": "A matrix: 14 × 4 of type dbl\n\\begin{tabular}{r|llll}\n  & Estimate & Std. Error & z value & Pr(>\\textbar{}z\\textbar{})\\\\\n\\hline\n\t(Intercept) & -7.9177 & 0.0976 & -81.1645 & 0.0000\\\\\n\tGAJI &  0.0000 & 0.0000 &   2.9063 & 0.0037\\\\\n\tLAMA.KERJA & -0.0056 & 0.0026 &  -2.2052 & 0.0274\\\\\n\tRUMAHOTHER &  0.9199 & 0.2592 &   3.5497 & 0.0004\\\\\n\tRUMAHOWN & -1.6976 & 0.0999 & -16.9984 & 0.0000\\\\\n\tRUMAHRENT &  1.1142 & 0.0359 &  31.0032 & 0.0000\\\\\n\tPINJAMAN & -0.0001 & 0.0000 & -31.2728 & 0.0000\\\\\n\tPROFESIEDUCATION & -1.1034 & 0.0498 & -22.1614 & 0.0000\\\\\n\tPROFESIHOMEIMPROVEMENT & -0.0171 & 0.0552 &  -0.3094 & 0.7570\\\\\n\tPROFESIMEDICAL & -0.3490 & 0.0464 &  -7.5147 & 0.0000\\\\\n\tPROFESIPERSONAL & -0.8224 & 0.0510 & -16.1275 & 0.0000\\\\\n\tPROFESIVENTURE & -1.2915 & 0.0540 & -23.9231 & 0.0000\\\\\n\tBUNGA &  0.4019 & 0.0060 &  66.4555 & 0.0000\\\\\n\tPERSENTASE & 18.0983 & 0.2646 &  68.4110 & 0.0000\\\\\n\\end{tabular}\n",
            "text/plain": [
              "                       Estimate Std. Error z value  Pr(>|z|)\n",
              "(Intercept)            -7.9177  0.0976     -81.1645 0.0000  \n",
              "GAJI                    0.0000  0.0000       2.9063 0.0037  \n",
              "LAMA.KERJA             -0.0056  0.0026      -2.2052 0.0274  \n",
              "RUMAHOTHER              0.9199  0.2592       3.5497 0.0004  \n",
              "RUMAHOWN               -1.6976  0.0999     -16.9984 0.0000  \n",
              "RUMAHRENT               1.1142  0.0359      31.0032 0.0000  \n",
              "PINJAMAN               -0.0001  0.0000     -31.2728 0.0000  \n",
              "PROFESIEDUCATION       -1.1034  0.0498     -22.1614 0.0000  \n",
              "PROFESIHOMEIMPROVEMENT -0.0171  0.0552      -0.3094 0.7570  \n",
              "PROFESIMEDICAL         -0.3490  0.0464      -7.5147 0.0000  \n",
              "PROFESIPERSONAL        -0.8224  0.0510     -16.1275 0.0000  \n",
              "PROFESIVENTURE         -1.2915  0.0540     -23.9231 0.0000  \n",
              "BUNGA                   0.4019  0.0060      66.4555 0.0000  \n",
              "PERSENTASE             18.0983  0.2646      68.4110 0.0000  "
            ]
          },
          "metadata": {}
        }
      ]
    },
    {
      "cell_type": "markdown",
      "source": [
        "Perhatikan variabel/faktor yang memiliki nilai $Pr(>|z|)= 0$  memiliki berpengaruh besar terhadap keberhasilan kredit. Selanjutnya, dilakukan penghitungan ODD RATIO untuk menentukan tingkat resiko seseorang tidak berhasil kredit(nilai 1 pada variabel LUNAS).\n"
      ],
      "metadata": {
        "id": "jzwQy5EFfcBB"
      }
    },
    {
      "cell_type": "code",
      "source": [
        "stepreg1$coefficients%>%\n",
        "  data.frame()%>%\n",
        "  dplyr::rename(koefisien='.')%>%\n",
        "  mutate(oddratio=round(exp(koefisien),2))"
      ],
      "metadata": {
        "colab": {
          "base_uri": "https://localhost:8080/",
          "height": 537
        },
        "id": "gE1VUQ5th2AS",
        "outputId": "81dfc87b-9f87-4bc3-eda7-d093e83fa52b"
      },
      "execution_count": 41,
      "outputs": [
        {
          "output_type": "display_data",
          "data": {
            "text/html": [
              "<table class=\"dataframe\">\n",
              "<caption>A data.frame: 14 × 2</caption>\n",
              "<thead>\n",
              "\t<tr><th></th><th scope=col>koefisien</th><th scope=col>oddratio</th></tr>\n",
              "\t<tr><th></th><th scope=col>&lt;dbl&gt;</th><th scope=col>&lt;dbl&gt;</th></tr>\n",
              "</thead>\n",
              "<tbody>\n",
              "\t<tr><th scope=row>(Intercept)</th><td>-7.917676e+00</td><td>       0.00</td></tr>\n",
              "\t<tr><th scope=row>GAJI</th><td> 6.236838e-07</td><td>       1.00</td></tr>\n",
              "\t<tr><th scope=row>LAMA.KERJA</th><td>-5.637830e-03</td><td>       0.99</td></tr>\n",
              "\t<tr><th scope=row>RUMAHOTHER</th><td> 9.199304e-01</td><td>       2.51</td></tr>\n",
              "\t<tr><th scope=row>RUMAHOWN</th><td>-1.697649e+00</td><td>       0.18</td></tr>\n",
              "\t<tr><th scope=row>RUMAHRENT</th><td> 1.114241e+00</td><td>       3.05</td></tr>\n",
              "\t<tr><th scope=row>PINJAMAN</th><td>-1.115793e-04</td><td>       1.00</td></tr>\n",
              "\t<tr><th scope=row>PROFESIEDUCATION</th><td>-1.103387e+00</td><td>       0.33</td></tr>\n",
              "\t<tr><th scope=row>PROFESIHOMEIMPROVEMENT</th><td>-1.708227e-02</td><td>       0.98</td></tr>\n",
              "\t<tr><th scope=row>PROFESIMEDICAL</th><td>-3.490330e-01</td><td>       0.71</td></tr>\n",
              "\t<tr><th scope=row>PROFESIPERSONAL</th><td>-8.223952e-01</td><td>       0.44</td></tr>\n",
              "\t<tr><th scope=row>PROFESIVENTURE</th><td>-1.291499e+00</td><td>       0.27</td></tr>\n",
              "\t<tr><th scope=row>BUNGA</th><td> 4.018788e-01</td><td>       1.49</td></tr>\n",
              "\t<tr><th scope=row>PERSENTASE</th><td> 1.809825e+01</td><td>72438648.81</td></tr>\n",
              "</tbody>\n",
              "</table>\n"
            ],
            "text/markdown": "\nA data.frame: 14 × 2\n\n| <!--/--> | koefisien &lt;dbl&gt; | oddratio &lt;dbl&gt; |\n|---|---|---|\n| (Intercept) | -7.917676e+00 |        0.00 |\n| GAJI |  6.236838e-07 |        1.00 |\n| LAMA.KERJA | -5.637830e-03 |        0.99 |\n| RUMAHOTHER |  9.199304e-01 |        2.51 |\n| RUMAHOWN | -1.697649e+00 |        0.18 |\n| RUMAHRENT |  1.114241e+00 |        3.05 |\n| PINJAMAN | -1.115793e-04 |        1.00 |\n| PROFESIEDUCATION | -1.103387e+00 |        0.33 |\n| PROFESIHOMEIMPROVEMENT | -1.708227e-02 |        0.98 |\n| PROFESIMEDICAL | -3.490330e-01 |        0.71 |\n| PROFESIPERSONAL | -8.223952e-01 |        0.44 |\n| PROFESIVENTURE | -1.291499e+00 |        0.27 |\n| BUNGA |  4.018788e-01 |        1.49 |\n| PERSENTASE |  1.809825e+01 | 72438648.81 |\n\n",
            "text/latex": "A data.frame: 14 × 2\n\\begin{tabular}{r|ll}\n  & koefisien & oddratio\\\\\n  & <dbl> & <dbl>\\\\\n\\hline\n\t(Intercept) & -7.917676e+00 &        0.00\\\\\n\tGAJI &  6.236838e-07 &        1.00\\\\\n\tLAMA.KERJA & -5.637830e-03 &        0.99\\\\\n\tRUMAHOTHER &  9.199304e-01 &        2.51\\\\\n\tRUMAHOWN & -1.697649e+00 &        0.18\\\\\n\tRUMAHRENT &  1.114241e+00 &        3.05\\\\\n\tPINJAMAN & -1.115793e-04 &        1.00\\\\\n\tPROFESIEDUCATION & -1.103387e+00 &        0.33\\\\\n\tPROFESIHOMEIMPROVEMENT & -1.708227e-02 &        0.98\\\\\n\tPROFESIMEDICAL & -3.490330e-01 &        0.71\\\\\n\tPROFESIPERSONAL & -8.223952e-01 &        0.44\\\\\n\tPROFESIVENTURE & -1.291499e+00 &        0.27\\\\\n\tBUNGA &  4.018788e-01 &        1.49\\\\\n\tPERSENTASE &  1.809825e+01 & 72438648.81\\\\\n\\end{tabular}\n",
            "text/plain": [
              "                       koefisien     oddratio   \n",
              "(Intercept)            -7.917676e+00        0.00\n",
              "GAJI                    6.236838e-07        1.00\n",
              "LAMA.KERJA             -5.637830e-03        0.99\n",
              "RUMAHOTHER              9.199304e-01        2.51\n",
              "RUMAHOWN               -1.697649e+00        0.18\n",
              "RUMAHRENT               1.114241e+00        3.05\n",
              "PINJAMAN               -1.115793e-04        1.00\n",
              "PROFESIEDUCATION       -1.103387e+00        0.33\n",
              "PROFESIHOMEIMPROVEMENT -1.708227e-02        0.98\n",
              "PROFESIMEDICAL         -3.490330e-01        0.71\n",
              "PROFESIPERSONAL        -8.223952e-01        0.44\n",
              "PROFESIVENTURE         -1.291499e+00        0.27\n",
              "BUNGA                   4.018788e-01        1.49\n",
              "PERSENTASE              1.809825e+01 72438648.81"
            ]
          },
          "metadata": {}
        }
      ]
    },
    {
      "cell_type": "markdown",
      "source": [
        "Berdasarkan analisis dari nilai UjiT dan Odd Ratio diperoleh informasi penting sebagai berikut ⁉\n",
        "1.  Faktor RUMAHOWN: Apabila debitur memiliki rumah sendiri, maka kemungkinan untuk gagal kredit adalah 0.18 kali dibandingkan dengan debitur yang bukan memiliki rumah sendiri. Dengan kata lain, memiliki rumah sendiri mengurangi risiko gagal kredit sebesar 82%\n",
        "2. Faktor RUMAHRENT: Apabila debitur tinggal di rumah sewa, maka kemungkinan untuk gagal kredit adalah 3.05 kali dibandingkan dengan debitur yang tidak tinggal di rumah sewa. Dengan kata lain,  jika debitur yang tinggal di rumah sewa maka resiko gagal kredit meningkat 3 kali lipat.\n",
        "3. Variabel PINJAMAN : Setiap naiknya 1 dollar jumlah pinjaman yang disetujui maka meningkatkan resiko gagal kredit sebanyak 1 kali.\n",
        "4. Faktor PROFESIEDUCATION : Apabila debitur berprofesi di bidang Edukasi maka kemungkinan untuk gagal kredit adalah 0.33 kali dibandingkan dengan debitur yang bukan berprofesi di bidang Edukasi.\n",
        "5. Faktor PROFESIHOMEIMPROVEMENT :pabila debitur berprofesi di bidang HOME IMPROVEMENT maka kemungkinan untuk gagal kredit adalah 0.98 kali dibandingkan dengan debitur yang bukan berprofesi di bidang HOME IMPROVEMENT.\n",
        "6. Variabel BUNGA : Setiap kenaikan 1 persen bunga kredit meningkatkan maka meningkatkan resiko gagal kredit sebanyak 1.5 kali lipat.\n"
      ],
      "metadata": {
        "id": "_O6CILryiT6p"
      }
    },
    {
      "cell_type": "markdown",
      "source": [
        "Setelah dilakukan pengkontruksian model dilakukan prediksi model regresi logistik berdasarkan data yang diberikan"
      ],
      "metadata": {
        "id": "5tPrfBA7sizN"
      }
    },
    {
      "cell_type": "code",
      "source": [
        "data_clean$prediksi<-round(predict(stepreg1,data=data_clean,type='response'))\n",
        "Result<-data_clean%>%\n",
        "  dplyr::select(LUNAS,prediksi)%>%\n",
        "  table()%>%\n",
        "  data.frame()\n",
        "Result"
      ],
      "metadata": {
        "colab": {
          "base_uri": "https://localhost:8080/",
          "height": 223
        },
        "id": "4IDAEGiYsiCX",
        "outputId": "7eac0025-e0be-4069-c5fa-ffafd4f3966b"
      },
      "execution_count": 42,
      "outputs": [
        {
          "output_type": "display_data",
          "data": {
            "text/html": [
              "<table class=\"dataframe\">\n",
              "<caption>A data.frame: 4 × 3</caption>\n",
              "<thead>\n",
              "\t<tr><th scope=col>LUNAS</th><th scope=col>prediksi</th><th scope=col>Freq</th></tr>\n",
              "\t<tr><th scope=col>&lt;fct&gt;</th><th scope=col>&lt;fct&gt;</th><th scope=col>&lt;int&gt;</th></tr>\n",
              "</thead>\n",
              "<tbody>\n",
              "\t<tr><td>0</td><td>0</td><td>33056</td></tr>\n",
              "\t<tr><td>1</td><td>0</td><td> 4433</td></tr>\n",
              "\t<tr><td>0</td><td>1</td><td> 1935</td></tr>\n",
              "\t<tr><td>1</td><td>1</td><td> 5097</td></tr>\n",
              "</tbody>\n",
              "</table>\n"
            ],
            "text/markdown": "\nA data.frame: 4 × 3\n\n| LUNAS &lt;fct&gt; | prediksi &lt;fct&gt; | Freq &lt;int&gt; |\n|---|---|---|\n| 0 | 0 | 33056 |\n| 1 | 0 |  4433 |\n| 0 | 1 |  1935 |\n| 1 | 1 |  5097 |\n\n",
            "text/latex": "A data.frame: 4 × 3\n\\begin{tabular}{lll}\n LUNAS & prediksi & Freq\\\\\n <fct> & <fct> & <int>\\\\\n\\hline\n\t 0 & 0 & 33056\\\\\n\t 1 & 0 &  4433\\\\\n\t 0 & 1 &  1935\\\\\n\t 1 & 1 &  5097\\\\\n\\end{tabular}\n",
            "text/plain": [
              "  LUNAS prediksi Freq \n",
              "1 0     0        33056\n",
              "2 1     0         4433\n",
              "3 0     1         1935\n",
              "4 1     1         5097"
            ]
          },
          "metadata": {}
        }
      ]
    },
    {
      "cell_type": "markdown",
      "source": [
        "Didapat akurasi model,\n",
        "1. Menebak orang yang berhasil kredit,\n",
        "$$ACC_{berhasil}=\\frac{33056}{33056+1935}*100\\%=94.470\\%$$,\n",
        "2. Menebak orang yang gagal kredit,\n",
        "$$ACC_{gagal}=\\frac{5097}{5097+4433}*100\\%=53.483\\%$$,\n",
        "3. Keakuratan menebak benar,\n",
        "$$ACC=\\frac{33056+5097}{33056+1935+5097+4433}\\times 100\\%=85.696\\%$$\n",
        "\n"
      ],
      "metadata": {
        "id": "Ih8SS6ILtsxW"
      }
    },
    {
      "cell_type": "code",
      "source": [
        "Result1<-data_clean%>%\n",
        "  dplyr::select(LUNAS,prediksi)"
      ],
      "metadata": {
        "id": "vgl0c32fxokH"
      },
      "execution_count": 51,
      "outputs": []
    },
    {
      "cell_type": "code",
      "source": [
        "install.packages(\"writexl\")\n",
        "library(writexl)\n",
        "write_xlsx(Result1, \"DataPrednLunas.xlsx\")"
      ],
      "metadata": {
        "colab": {
          "base_uri": "https://localhost:8080/"
        },
        "id": "qIvDUyYh3qps",
        "outputId": "8e2bc1ab-c04e-49d4-c3d4-58e5e33ffa8b"
      },
      "execution_count": 52,
      "outputs": [
        {
          "output_type": "stream",
          "name": "stderr",
          "text": [
            "Installing package into ‘/usr/local/lib/R/site-library’\n",
            "(as ‘lib’ is unspecified)\n",
            "\n"
          ]
        }
      ]
    }
  ]
}